{
 "cells": [
  {
   "cell_type": "markdown",
   "id": "51204b8d",
   "metadata": {},
   "source": [
    "<h3 style=\"color: #001a79;\">Exercise 2</h3>\n",
    "\n",
    "<hr style=\"border-top: 1px solid #001a79;\" />\n",
    "\n",
    "Explain why the log of zero is undefined."
   ]
  },
  {
   "cell_type": "markdown",
   "id": "7223946d",
   "metadata": {},
   "source": [
    "<img style=\"border: 1px solid #ff791e; max-width: 400px;\" src=\"https://miro.medium.com/max/1400/1*XiPOOAwlW4oB7-piM2_DxA.jpeg\" alt=\"John Tukey\"></img>\n",
    "Source: https://medium.com/@kyawsawhtoon/log-transformation-purpose-and-interpretation-9444b4b049c9\n",
    "\n",
    "Taking the example below we can see the relationship between logs and powers:"
   ]
  },
  {
   "cell_type": "code",
   "execution_count": 1,
   "id": "23c97255",
   "metadata": {},
   "outputs": [],
   "source": [
    "b = 2\n",
    "x = 8\n",
    "y = 3"
   ]
  },
  {
   "cell_type": "code",
   "execution_count": 2,
   "id": "1fadd90b",
   "metadata": {},
   "outputs": [
    {
     "data": {
      "text/plain": [
       "True"
      ]
     },
     "execution_count": 2,
     "metadata": {},
     "output_type": "execute_result"
    }
   ],
   "source": [
    "import math\n",
    "math.log(x, b) == y"
   ]
  },
  {
   "cell_type": "code",
   "execution_count": 3,
   "id": "db4814a0",
   "metadata": {},
   "outputs": [
    {
     "data": {
      "text/plain": [
       "True"
      ]
     },
     "execution_count": 3,
     "metadata": {},
     "output_type": "execute_result"
    }
   ],
   "source": [
    "b ** y == x"
   ]
  },
  {
   "cell_type": "markdown",
   "id": "cf290f44",
   "metadata": {},
   "source": [
    "For the $log_2({8})$ we are asking how many 2s we need to multiply together to get 8? \n",
    "\n",
    "The answer is 3"
   ]
  },
  {
   "cell_type": "code",
   "execution_count": 4,
   "id": "14331019",
   "metadata": {},
   "outputs": [
    {
     "data": {
      "text/plain": [
       "8"
      ]
     },
     "execution_count": 4,
     "metadata": {},
     "output_type": "execute_result"
    }
   ],
   "source": [
    "2 * 2 * 2 "
   ]
  },
  {
   "cell_type": "markdown",
   "id": "a2ae308c",
   "metadata": {},
   "source": [
    "Say the question is how many 2s we need to get 0? "
   ]
  },
  {
   "cell_type": "markdown",
   "id": "75ecb990",
   "metadata": {},
   "source": [
    "Our log would be $log_2({0})$ but this gives us an error. "
   ]
  },
  {
   "cell_type": "code",
   "execution_count": 5,
   "id": "3e7f9533",
   "metadata": {},
   "outputs": [
    {
     "ename": "ValueError",
     "evalue": "math domain error",
     "output_type": "error",
     "traceback": [
      "\u001b[1;31m---------------------------------------------------------------------------\u001b[0m",
      "\u001b[1;31mValueError\u001b[0m                                Traceback (most recent call last)",
      "Input \u001b[1;32mIn [5]\u001b[0m, in \u001b[0;36m<cell line: 1>\u001b[1;34m()\u001b[0m\n\u001b[1;32m----> 1\u001b[0m \u001b[43mmath\u001b[49m\u001b[38;5;241;43m.\u001b[39;49m\u001b[43mlog\u001b[49m\u001b[43m(\u001b[49m\u001b[38;5;241;43m0\u001b[39;49m\u001b[43m,\u001b[49m\u001b[43m \u001b[49m\u001b[38;5;241;43m2\u001b[39;49m\u001b[43m)\u001b[49m\n",
      "\u001b[1;31mValueError\u001b[0m: math domain error"
     ]
    }
   ],
   "source": [
    "math.log(0, 2)"
   ]
  },
  {
   "cell_type": "markdown",
   "id": "548d6e67",
   "metadata": {},
   "source": [
    "That is because there is no way of getting 0 from $2^{x}$ where x is any rational number. "
   ]
  }
 ],
 "metadata": {
  "kernelspec": {
   "display_name": "Python 3 (ipykernel)",
   "language": "python",
   "name": "python3"
  },
  "language_info": {
   "codemirror_mode": {
    "name": "ipython",
    "version": 3
   },
   "file_extension": ".py",
   "mimetype": "text/x-python",
   "name": "python",
   "nbconvert_exporter": "python",
   "pygments_lexer": "ipython3",
   "version": "3.9.13"
  }
 },
 "nbformat": 4,
 "nbformat_minor": 5
}
