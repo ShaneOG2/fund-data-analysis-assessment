{
 "cells": [
  {
   "cell_type": "markdown",
   "id": "8b048dbe",
   "metadata": {},
   "source": [
    "<h1 style=\"color: #001a79;\">Cleansing Notebook</h1>"
   ]
  },
  {
   "cell_type": "code",
   "execution_count": 3,
   "id": "a0c6a7e6",
   "metadata": {},
   "outputs": [],
   "source": [
    "# Package for regular expressions. \n",
    "import re"
   ]
  },
  {
   "cell_type": "markdown",
   "id": "8a2a04ef",
   "metadata": {},
   "source": [
    "<h3 style=\"color: #001a79;\">Exercise 1</h3>\n",
    "\n",
    "<hr style=\"border-top: 1px solid #001a79;\" />\n",
    "\n",
    "Write a Python function to remove all non-alphanumeric characters from a string."
   ]
  },
  {
   "cell_type": "markdown",
   "id": "93737f0b",
   "metadata": {},
   "source": [
    "**Alphanumeric** characters consist of or use **both letters and numerals**. \n",
    "\n",
    "**Non-Alphanumeric** characters are the other characters on your keyboard that aren’t letters or numbers. Any character that is not a number or letter (in upper or lower case) is non-alphanumeric. These could be grouped as **Punctuation characters:** `! @ # & ( ) – [ { } ] : ; ', ? / *` and **symbol characters** `~ $ ^ + = < > “`.\n",
    "\n",
    "Sources<br>\n",
    "<a href=\"https://languages.oup.com/google-dictionary-en/\" target=\"_blank\">Google’s English dictionary (Oxford Languages)</a><br>\n",
    "<a href=\"https://buildvirtual.net/a-guide-to-non-alphanumeric-characters/\" target=\"_blank\">buildVirtual - A Guide To Non-Alphanumeric Characters</a>"
   ]
  },
  {
   "cell_type": "code",
   "execution_count": 27,
   "id": "420debb2",
   "metadata": {},
   "outputs": [],
   "source": [
    "# Create a strings to test with.\n",
    "my_str1 = \"{H£ll0, How+are_you?!*14+}\"\n",
    "my_str2 = \"!£$%^&*(_+)TOP Keyboard|<>?{}:;@~,./<>?Other Keyboard1234\""
   ]
  },
  {
   "cell_type": "markdown",
   "id": "76a63700",
   "metadata": {},
   "source": [
    "`**sub**` - searches for all the instances of pattern in the given string, and replaces them.<br>\n",
    "`**r ' '**` - at the start of the pattern string designates a python \"raw\" string. <br>\n",
    "`**[]**` - the square brackets can be used to indicate a set of chars, so [abc] matches 'a' or 'b' or 'c'.<br>\n",
    "`**\\w**` - (lowercase w) matches a \"word\" character: a letter or digit or underbar [a-zA-Z0-9_].<br>\n",
    "`**\\W**` - (upper case W) matches any non-word/number character.<br>\n",
    "`**_**` - matches the underbar which is included in \\W.<br>\n",
    "`''` - we will replace the non-alphanumeric characters that are found with nothing.\n",
    "\n",
    "So `removeAllNonAlphanumeric()` will search `string` for any non-word/number characters `\\W` and spaces `_` and will replace them with nothing `''`. "
   ]
  },
  {
   "cell_type": "code",
   "execution_count": 37,
   "id": "69b9f15e",
   "metadata": {},
   "outputs": [],
   "source": [
    "def removeAllNonAlphanumeric(string):\n",
    "    new_str = re.sub(r'[\\W_]', '', string)\n",
    "    return new_str"
   ]
  },
  {
   "cell_type": "code",
   "execution_count": 38,
   "id": "289fcd6a",
   "metadata": {},
   "outputs": [
    {
     "data": {
      "text/plain": [
       "'Hll0Howareyou14'"
      ]
     },
     "execution_count": 38,
     "metadata": {},
     "output_type": "execute_result"
    }
   ],
   "source": [
    "removeAllNonAlphanumeric(my_str1)"
   ]
  },
  {
   "cell_type": "code",
   "execution_count": 39,
   "id": "92135247",
   "metadata": {},
   "outputs": [
    {
     "data": {
      "text/plain": [
       "'TOPKeyboardOtherKeyboard1234'"
      ]
     },
     "execution_count": 39,
     "metadata": {},
     "output_type": "execute_result"
    }
   ],
   "source": [
    "removeAllNonAlphanumeric(my_str2)"
   ]
  },
  {
   "cell_type": "markdown",
   "id": "a6b14b4f",
   "metadata": {},
   "source": [
    "<a href=\"https://developers.google.com/edu/python/regular-expressions\" target=\"_blank\">Google for Education: Python Regular Expressions</a>"
   ]
  }
 ],
 "metadata": {
  "kernelspec": {
   "display_name": "Python 3 (ipykernel)",
   "language": "python",
   "name": "python3"
  },
  "language_info": {
   "codemirror_mode": {
    "name": "ipython",
    "version": 3
   },
   "file_extension": ".py",
   "mimetype": "text/x-python",
   "name": "python",
   "nbconvert_exporter": "python",
   "pygments_lexer": "ipython3",
   "version": "3.9.13"
  }
 },
 "nbformat": 4,
 "nbformat_minor": 5
}
