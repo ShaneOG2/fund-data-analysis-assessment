{
 "cells": [
  {
   "cell_type": "markdown",
   "id": "41b93626",
   "metadata": {},
   "source": [
    "<h1 style=\"color: #001a79;\">Randomness</h1>\n",
    "\n",
    "<h3 style=\"color: #001a79;\">Exercise 1</h3>\n",
    "\n",
    "<hr style=\"border-top: 1px solid #001a79;\" />\n",
    "\n",
    "It is somewhat interesting that `(5 * 4 * 3 * 2 * 1)` perfectly divides `(10 * 9 * 8 * 7 * 6)` - there's no remainder.\n",
    "\n",
    "If we only wanted exactly four heads as opposed to five, the equivalent calculation would be `(10 * 9 * 8 * 7) / (4 * 3 * 2 * 1)`.\n",
    "\n",
    "Does that evenly divide too? What is the formula in general?\n",
    "\n",
    "Does it always come out as a positive whole number?"
   ]
  },
  {
   "cell_type": "code",
   "execution_count": 1,
   "id": "f1938d8f",
   "metadata": {},
   "outputs": [
    {
     "data": {
      "text/plain": [
       "5040"
      ]
     },
     "execution_count": 1,
     "metadata": {},
     "output_type": "execute_result"
    }
   ],
   "source": [
    "numerator = (10 * 9 * 8 * 7)\n",
    "numerator"
   ]
  },
  {
   "cell_type": "code",
   "execution_count": 2,
   "id": "d74cf78e",
   "metadata": {},
   "outputs": [
    {
     "data": {
      "text/plain": [
       "24"
      ]
     },
     "execution_count": 2,
     "metadata": {},
     "output_type": "execute_result"
    }
   ],
   "source": [
    "denominator = (4 * 3 * 2 * 1)\n",
    "denominator"
   ]
  },
  {
   "cell_type": "code",
   "execution_count": 3,
   "id": "2cfad65a",
   "metadata": {},
   "outputs": [
    {
     "data": {
      "text/plain": [
       "210"
      ]
     },
     "execution_count": 3,
     "metadata": {},
     "output_type": "execute_result"
    }
   ],
   "source": [
    "numerator // denominator"
   ]
  },
  {
   "cell_type": "markdown",
   "id": "b08679fd",
   "metadata": {},
   "source": [
    "This divides evenly. "
   ]
  },
  {
   "cell_type": "markdown",
   "id": "7b62ea7d",
   "metadata": {},
   "source": [
    "The general formula is: $${n \\choose r} = {n! \\over r!(n-r)!}$$\n",
    "\n",
    "where n is the number of things to choose from, and we choose r of them. \n",
    "\n",
    "https://www.mathsisfun.com/combinatorics/combinations-permutations.html"
   ]
  },
  {
   "cell_type": "markdown",
   "id": "88c10577",
   "metadata": {},
   "source": [
    "If we use the above equation to solve $${10 \\choose 4} = {10! \\over 4!(10-4)!} = {10! \\over (4!)(6!)} =$$"
   ]
  },
  {
   "cell_type": "markdown",
   "id": "ee529113",
   "metadata": {},
   "source": [
    "$${(10\\times 9\\times 8\\times 7\\times 6\\times 5\\times 4\\times 3\\times 2\\times 1)} \\over {(4\\times 3\\times 2\\times 1)(6\\times 5\\times 4\\times 3\\times 2\\times 1)}$$"
   ]
  },
  {
   "cell_type": "markdown",
   "id": "3e98b499",
   "metadata": {},
   "source": [
    "$${(10\\times 9\\times 8\\times 7)} \\over {(4\\times 3\\times 2\\times 1)}$$"
   ]
  },
  {
   "cell_type": "markdown",
   "id": "4848dac7",
   "metadata": {},
   "source": [
    "As above we see we get a total of 210 combinations choosing 4 from 10. "
   ]
  },
  {
   "cell_type": "code",
   "execution_count": 4,
   "id": "dcc4da53",
   "metadata": {},
   "outputs": [
    {
     "data": {
      "text/plain": [
       "210"
      ]
     },
     "execution_count": 4,
     "metadata": {},
     "output_type": "execute_result"
    }
   ],
   "source": [
    "import math\n",
    "numerator = (10 * 9 * 8 * 7)\n",
    "denominator = (4 * 3 * 2 * 1)\n",
    "numerator // denominator"
   ]
  },
  {
   "cell_type": "markdown",
   "id": "ba655cff",
   "metadata": {},
   "source": [
    "Does it always come out as a positive whole number? \n",
    "\n",
    "In short yes. \n",
    "\n",
    "The below triangle is named Pascal's Triangle (named after Blaise Pascal, a famous French Mathematician and Philosopher).\n",
    "\n",
    "![Pascals Triangle](https://www.mathsisfun.com/numbers/images/pascals-triangle-doubles.svg)\n",
    "\n",
    "The values of the triangle are the values for n choose r, where the rows are n from 0 to 8, and from left to right of each row is r where 0 $\\le$ r $\\le$ n. \n",
    "\n",
    "$${0 \\choose 0}$$\n",
    "$${1 \\choose 0} {1 \\choose 1}$$\n",
    "$${2 \\choose 0} {2 \\choose 1} {2 \\choose 2}$$\n",
    "$${3 \\choose 0} {3 \\choose 1} {3 \\choose 2} {3 \\choose 3}$$\n",
    "$$...$$\n",
    "$$...$$\n",
    "$$...$$\n",
    "$${8 \\choose 0} {8 \\choose 1} {8 \\choose 2} {8 \\choose 3} {8 \\choose 4} {8 \\choose 5} {8 \\choose 6} {8 \\choose 7} {8 \\choose 8}$$\n",
    "\n",
    "We can build this in python and input N. "
   ]
  },
  {
   "cell_type": "code",
   "execution_count": 22,
   "id": "0301e37b",
   "metadata": {},
   "outputs": [
    {
     "name": "stdout",
     "output_type": "stream",
     "text": [
      "Input N, the number of things to choose from: 4\n",
      "                          1         <------ 1\n",
      "\n",
      "                      1      1         <------ 2\n",
      "\n",
      "                  1      2      1         <------ 4\n",
      "\n",
      "              1      3      3      1         <------ 8\n",
      "\n",
      "          1      4      6      4      1         <------ 16\n",
      "\n"
     ]
    }
   ],
   "source": [
    "N = input(\"Input N, the number of things to choose from: \")\n",
    "N = int(N)\n",
    "n_list = []\n",
    "for n in range(N+1):\n",
    "    r_list = []\n",
    "    for r in range(n+1):\n",
    "        ncr = math.comb(n,r)\n",
    "        r_list.append(ncr)\n",
    "    n_list.append(r_list)\n",
    "    \n",
    "n_list\n",
    "\n",
    "# Print Pascals Triangle https://www.pythonpool.com/pascals-triangle-python/\n",
    "for i in range(len(n_list)):\n",
    "    print(\"    \"*(len(n_list)-i) ,end=\" \",sep=\" \")\n",
    "    for j in range(0,i+1):\n",
    "        print(\"{0:6}\".format(n_list[i][j]),end=\" \",sep=\" \")\n",
    "    print(\"        <------\", sum(n_list[i]))\n",
    "    print()"
   ]
  },
  {
   "cell_type": "markdown",
   "id": "d2f58296",
   "metadata": {},
   "source": [
    "The sum of the rows double each time, i.e, they are powers of 2. \n",
    "\n",
    "The triangles first and last element of each row is always 1. This is because: $${n \\choose 0} == {n \\choose n}$$. \n",
    "\n",
    "The triangle is also symmetrical. We can see the numbers on the left match the numbers on the right. This is because: $${n \\choose r} == {n \\choose n-r}$$. \n"
   ]
  },
  {
   "cell_type": "markdown",
   "id": "f1ff26f0",
   "metadata": {},
   "source": [
    "<h3 style=\"color: #001a79;\">Exercise 2</h3>\n",
    "\n",
    "<hr style=\"border-top: 1px solid #001a79;\" />\n",
    "\n",
    "Note that there are the same number of ways to get 4 tails as there to get 4 heads. Explain why this is."
   ]
  },
  {
   "cell_type": "markdown",
   "id": "82000ff4",
   "metadata": {},
   "source": [
    "The general formula is: $${n \\choose r} = {n! \\over r!(n-r)!}$$\n",
    "\n",
    "where n is the number of things to choose from, and we choose r of them. \n",
    "\n",
    "https://www.mathsisfun.com/combinatorics/combinations-permutations.html"
   ]
  },
  {
   "cell_type": "markdown",
   "id": "f796646c",
   "metadata": {},
   "source": [
    "n is the number of coins and r is the number of tails. "
   ]
  },
  {
   "cell_type": "code",
   "execution_count": null,
   "id": "6da2e6f5",
   "metadata": {},
   "outputs": [],
   "source": [
    "r = 4\n",
    "n = 10"
   ]
  },
  {
   "cell_type": "code",
   "execution_count": null,
   "id": "56ca75a4",
   "metadata": {},
   "outputs": [],
   "source": [
    "import math\n",
    "combinations = (math.factorial(n)) // ((math.factorial(r)) * (math.factorial(n - r)))\n",
    "combinations"
   ]
  },
  {
   "cell_type": "markdown",
   "id": "d3e2a338",
   "metadata": {},
   "source": [
    "This returns the same number of combinations if we set r to be the number of heads. \n",
    "\n",
    "It doesnt matter whether it is (4 heads and 6 tails) or (4 tails and 6 heads) the number of combinations will be 210.  "
   ]
  },
  {
   "cell_type": "code",
   "execution_count": null,
   "id": "c742e2ff",
   "metadata": {},
   "outputs": [],
   "source": [
    "n = 10\n",
    "r = [x for x in range(11)]"
   ]
  },
  {
   "cell_type": "code",
   "execution_count": null,
   "id": "e84a7df2",
   "metadata": {},
   "outputs": [],
   "source": [
    "import math\n",
    "combinations = []\n",
    "for x in r:\n",
    "    comb = (math.factorial(n)) // ((math.factorial(x)) * (math.factorial(n - x)))\n",
    "    combinations.append(comb)\n",
    "combinations"
   ]
  },
  {
   "cell_type": "code",
   "execution_count": null,
   "id": "7b6026cd",
   "metadata": {},
   "outputs": [],
   "source": [
    "import matplotlib.pyplot as plt\n",
    "x = [\"0T 10H\", \n",
    "\"1T 9H\",\n",
    "\"2T 8H\",\n",
    "\"3T 7H\",\n",
    "\"4T 6H\",\n",
    "\"5T 5H\",\n",
    "\"6T 4H\",\n",
    "\"7T 3H\",\n",
    "\"8T 2H\",\n",
    "\"9T 1H\",\n",
    "\"10T 0H\"]\n",
    "\n",
    "# function to add value labels https://www.geeksforgeeks.org/adding-value-labels-on-a-matplotlib-bar-chart/\n",
    "def addlabels(x,y):\n",
    "    for i in range(len(x)):\n",
    "        plt.text(i, y[i], y[i], ha = 'center')\n",
    "\n",
    "plt.figure(figsize = (10, 5))\n",
    "addlabels(x, combinations)\n",
    "barlist = plt.bar(x, combinations)\n",
    "\n",
    "# https://stackoverflow.com/a/18973430\n",
    "barlist[4].set_color('r')\n",
    "barlist[6].set_color('r')"
   ]
  }
 ],
 "metadata": {
  "kernelspec": {
   "display_name": "Python 3 (ipykernel)",
   "language": "python",
   "name": "python3"
  },
  "language_info": {
   "codemirror_mode": {
    "name": "ipython",
    "version": 3
   },
   "file_extension": ".py",
   "mimetype": "text/x-python",
   "name": "python",
   "nbconvert_exporter": "python",
   "pygments_lexer": "ipython3",
   "version": "3.9.13"
  }
 },
 "nbformat": 4,
 "nbformat_minor": 5
}
