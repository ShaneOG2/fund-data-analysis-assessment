{
 "cells": [
  {
   "cell_type": "markdown",
   "id": "41b93626",
   "metadata": {},
   "source": [
    "<h3 style=\"color: #001a79;\">Exercise 1</h3>\n",
    "\n",
    "<hr style=\"border-top: 1px solid #001a79;\" />\n",
    "\n",
    "It is somewhat interesting that `(5 * 4 * 3 * 2 * 1)` perfectly divides `(10 * 9 * 8 * 7 * 6)` - there's no remainder.\n",
    "\n",
    "If we only wanted exactly four heads as opposed to five, the equivalent calculation would be `(10 * 9 * 8 * 7) / (4 * 3 * 2 * 1)`.\n",
    "\n",
    "Does that evenly divide too? What is the formula in general?\n",
    "\n",
    "Does it always come out as a positive whole number?"
   ]
  },
  {
   "cell_type": "code",
   "execution_count": 61,
   "id": "f1938d8f",
   "metadata": {},
   "outputs": [
    {
     "data": {
      "text/plain": [
       "5040"
      ]
     },
     "execution_count": 61,
     "metadata": {},
     "output_type": "execute_result"
    }
   ],
   "source": [
    "numerator = (10 * 9 * 8 * 7)\n",
    "numerator"
   ]
  },
  {
   "cell_type": "code",
   "execution_count": 62,
   "id": "d74cf78e",
   "metadata": {},
   "outputs": [
    {
     "data": {
      "text/plain": [
       "24"
      ]
     },
     "execution_count": 62,
     "metadata": {},
     "output_type": "execute_result"
    }
   ],
   "source": [
    "denominator = (4 * 3 * 2 * 1)\n",
    "denominator"
   ]
  },
  {
   "cell_type": "code",
   "execution_count": 64,
   "id": "2cfad65a",
   "metadata": {},
   "outputs": [
    {
     "data": {
      "text/plain": [
       "210"
      ]
     },
     "execution_count": 64,
     "metadata": {},
     "output_type": "execute_result"
    }
   ],
   "source": [
    "numerator // denominator"
   ]
  },
  {
   "cell_type": "markdown",
   "id": "b08679fd",
   "metadata": {},
   "source": [
    "This divides evenly. This is always the case given the factorials of the denominator will always be a factor of the numerator. "
   ]
  },
  {
   "cell_type": "markdown",
   "id": "7b62ea7d",
   "metadata": {},
   "source": [
    "The general formula is: $${n \\choose r} = {n! \\over r!(n-r)!}$$\n",
    "\n",
    "where n is the number of things to choose from, and we choose r of them. \n",
    "\n",
    "https://www.mathsisfun.com/combinatorics/combinations-permutations.html"
   ]
  },
  {
   "cell_type": "markdown",
   "id": "88c10577",
   "metadata": {},
   "source": [
    "If we use the above equation to solve $${10 \\choose 4} = {10! \\over 4!(10-4)!} = {10! \\over (4!)(6!)} =$$"
   ]
  },
  {
   "cell_type": "markdown",
   "id": "ee529113",
   "metadata": {},
   "source": [
    "$${(10\\times 9\\times 8\\times 7\\times 6\\times 5\\times 4\\times 3\\times 2\\times 1)} \\over {(4\\times 3\\times 2\\times 1)(6\\times 5\\times 4\\times 3\\times 2\\times 1)}$$"
   ]
  },
  {
   "cell_type": "markdown",
   "id": "3e98b499",
   "metadata": {},
   "source": [
    "$${(10\\times 9\\times 8\\times 7)} \\over {(4\\times 3\\times 2\\times 1)}$$"
   ]
  },
  {
   "cell_type": "markdown",
   "id": "4848dac7",
   "metadata": {},
   "source": [
    "As above we see we get a total of 210 combinations choosing 4 from 10. "
   ]
  },
  {
   "cell_type": "code",
   "execution_count": 65,
   "id": "dcc4da53",
   "metadata": {},
   "outputs": [
    {
     "data": {
      "text/plain": [
       "210"
      ]
     },
     "execution_count": 65,
     "metadata": {},
     "output_type": "execute_result"
    }
   ],
   "source": [
    "import math\n",
    "numerator = (10 * 9 * 8 * 7)\n",
    "denominator = (4 * 3 * 2 * 1)\n",
    "numerator // denominator"
   ]
  },
  {
   "cell_type": "markdown",
   "id": "f1ff26f0",
   "metadata": {},
   "source": [
    "<h3 style=\"color: #001a79;\">Exercise 2</h3>\n",
    "\n",
    "<hr style=\"border-top: 1px solid #001a79;\" />\n",
    "\n",
    "Note that there are the same number of ways to get 4 tails as there to get 4 heads. Explain why this is."
   ]
  },
  {
   "cell_type": "markdown",
   "id": "82000ff4",
   "metadata": {},
   "source": [
    "The general formula is: $${n \\choose r} = {n! \\over r!(n-r)!}$$\n",
    "\n",
    "where n is the number of things to choose from, and we choose r of them. \n",
    "\n",
    "https://www.mathsisfun.com/combinatorics/combinations-permutations.html"
   ]
  },
  {
   "cell_type": "markdown",
   "id": "f796646c",
   "metadata": {},
   "source": [
    "n is the number of coins and r is the number of tails. "
   ]
  },
  {
   "cell_type": "code",
   "execution_count": 2,
   "id": "6da2e6f5",
   "metadata": {},
   "outputs": [],
   "source": [
    "r = 4\n",
    "n = 10"
   ]
  },
  {
   "cell_type": "code",
   "execution_count": 3,
   "id": "56ca75a4",
   "metadata": {},
   "outputs": [
    {
     "data": {
      "text/plain": [
       "210"
      ]
     },
     "execution_count": 3,
     "metadata": {},
     "output_type": "execute_result"
    }
   ],
   "source": [
    "import math\n",
    "combinations = (math.factorial(n)) // ((math.factorial(r)) * (math.factorial(n - r)))\n",
    "combinations"
   ]
  },
  {
   "cell_type": "markdown",
   "id": "d3e2a338",
   "metadata": {},
   "source": [
    "This returns the same number of combinations if we set r to be the number of heads. \n",
    "\n",
    "It doesnt matter whether it is (4 heads and 6 tails) or (4 tails and 6 heads) the number of combinations will be 210.  "
   ]
  },
  {
   "cell_type": "code",
   "execution_count": 15,
   "id": "c742e2ff",
   "metadata": {},
   "outputs": [],
   "source": [
    "n = 10\n",
    "r = [x for x in range(11)]"
   ]
  },
  {
   "cell_type": "code",
   "execution_count": 17,
   "id": "e84a7df2",
   "metadata": {},
   "outputs": [
    {
     "data": {
      "text/plain": [
       "[1, 10, 45, 120, 210, 252, 210, 120, 45, 10, 1]"
      ]
     },
     "execution_count": 17,
     "metadata": {},
     "output_type": "execute_result"
    }
   ],
   "source": [
    "import math\n",
    "combinations = []\n",
    "for x in r:\n",
    "    comb = (math.factorial(n)) // ((math.factorial(x)) * (math.factorial(n - x)))\n",
    "    combinations.append(comb)\n",
    "combinations"
   ]
  },
  {
   "cell_type": "code",
   "execution_count": 31,
   "id": "7b6026cd",
   "metadata": {},
   "outputs": [
    {
     "data": {
      "text/plain": [
       "[Text(0, 0, '0T 10H'),\n",
       " Text(0, 0, '1T 9H2T 8H3T 7H4T 6H5T 5H6T 4H7T 3H8T 2H9T 1H10T 0H'),\n",
       " Text(0, 0, '45'),\n",
       " Text(0, 0, '120'),\n",
       " Text(0, 0, '210'),\n",
       " Text(0, 0, '252'),\n",
       " Text(0, 0, '210'),\n",
       " Text(0, 0, '120'),\n",
       " Text(0, 0, '45'),\n",
       " Text(0, 0, '10'),\n",
       " Text(0, 0, '1')]"
      ]
     },
     "execution_count": 31,
     "metadata": {},
     "output_type": "execute_result"
    },
    {
     "data": {
      "image/png": "[encoded data removed]",
      "text/plain": [
       "<Figure size 640x480 with 1 Axes>"
      ]
     },
     "metadata": {},
     "output_type": "display_data"
    }
   ],
   "source": [
    "import matplotlib.pyplot as plt\n",
    "p1 = plt.bar(r, combinations)\n",
    "labels= [\"0T 10H\", \n",
    "\"1T 9H\"\n",
    "\"2T 8H\"\n",
    "\"3T 7H\"\n",
    "\"4T 6H\"\n",
    "\"5T 5H\"\n",
    "\"6T 4H\"\n",
    "\"7T 3H\"\n",
    "\"8T 2H\"\n",
    "\"9T 1H\"\n",
    "\"10T 0H\"]\n",
    "plt.bar_label(p1, labels, label_type='center')"
   ]
  },
  {
   "cell_type": "code",
   "execution_count": null,
   "id": "15806cc3",
   "metadata": {},
   "outputs": [],
   "source": []
  }
 ],
 "metadata": {
  "kernelspec": {
   "display_name": "Python 3 (ipykernel)",
   "language": "python",
   "name": "python3"
  },
  "language_info": {
   "codemirror_mode": {
    "name": "ipython",
    "version": 3
   },
   "file_extension": ".py",
   "mimetype": "text/x-python",
   "name": "python",
   "nbconvert_exporter": "python",
   "pygments_lexer": "ipython3",
   "version": "3.9.13"
  }
 },
 "nbformat": 4,
 "nbformat_minor": 5
}
