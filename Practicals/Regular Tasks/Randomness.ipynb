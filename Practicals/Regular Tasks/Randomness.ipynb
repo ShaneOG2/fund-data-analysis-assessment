{
 "cells": [
  {
   "cell_type": "markdown",
   "id": "41b93626",
   "metadata": {},
   "source": [
    "<h3 style=\"color: #001a79;\">Exercise 1</h3>\n",
    "\n",
    "<hr style=\"border-top: 1px solid #001a79;\" />\n",
    "\n",
    "It is somewhat interesting that `(5 * 4 * 3 * 2 * 1)` perfectly divides `(10 * 9 * 8 * 7 * 6)` - there's no remainder.\n",
    "\n",
    "If we only wanted exactly four heads as opposed to five, the equivalent calculation would be `(10 * 9 * 8 * 7) / (4 * 3 * 2 * 1)`.\n",
    "\n",
    "Does that evenly divide too? What is the formula in general?\n",
    "\n",
    "Does it always come out as a positive whole number?"
   ]
  },
  {
   "cell_type": "code",
   "execution_count": 61,
   "id": "f1938d8f",
   "metadata": {},
   "outputs": [
    {
     "data": {
      "text/plain": [
       "5040"
      ]
     },
     "execution_count": 61,
     "metadata": {},
     "output_type": "execute_result"
    }
   ],
   "source": [
    "numerator = (10 * 9 * 8 * 7)\n",
    "numerator"
   ]
  },
  {
   "cell_type": "code",
   "execution_count": 62,
   "id": "d74cf78e",
   "metadata": {},
   "outputs": [
    {
     "data": {
      "text/plain": [
       "24"
      ]
     },
     "execution_count": 62,
     "metadata": {},
     "output_type": "execute_result"
    }
   ],
   "source": [
    "denominator = (4 * 3 * 2 * 1)\n",
    "denominator"
   ]
  },
  {
   "cell_type": "code",
   "execution_count": 64,
   "id": "2cfad65a",
   "metadata": {},
   "outputs": [
    {
     "data": {
      "text/plain": [
       "210"
      ]
     },
     "execution_count": 64,
     "metadata": {},
     "output_type": "execute_result"
    }
   ],
   "source": [
    "numerator // denominator"
   ]
  },
  {
   "cell_type": "markdown",
   "id": "b08679fd",
   "metadata": {},
   "source": [
    "This divides evenly. This is always the case because given the factorials on the numerator and denominator you will always have a factor of the numerator in the denominator. "
   ]
  },
  {
   "cell_type": "markdown",
   "id": "7b62ea7d",
   "metadata": {},
   "source": [
    "The general formula is: $${n \\choose r} = {n! \\over r!(n-r)!}$$\n",
    "\n",
    "where n is the number of things to choose from, and we choose r of them. \n",
    "\n",
    "https://www.mathsisfun.com/combinatorics/combinations-permutations.html"
   ]
  },
  {
   "cell_type": "markdown",
   "id": "88c10577",
   "metadata": {},
   "source": [
    "If we use the above equation to solve $${10 \\choose 4} = {10! \\over 4!(10-4)!} = {10! \\over (4!)(6!)} =$$"
   ]
  },
  {
   "cell_type": "markdown",
   "id": "ee529113",
   "metadata": {},
   "source": [
    "$${(10\\times 9\\times 8\\times 7\\times 6\\times 5\\times 4\\times 3\\times 2\\times 1)} \\over {(4\\times 3\\times 2\\times 1)(6\\times 5\\times 4\\times 3\\times 2\\times 1)}$$"
   ]
  },
  {
   "cell_type": "markdown",
   "id": "3e98b499",
   "metadata": {},
   "source": [
    "$${(10\\times 9\\times 8\\times 7)} \\over {(4\\times 3\\times 2\\times 1)}$$"
   ]
  },
  {
   "cell_type": "markdown",
   "id": "4848dac7",
   "metadata": {},
   "source": [
    "As above we see we get a total of 210 combinations choosing 4 from 10. "
   ]
  },
  {
   "cell_type": "code",
   "execution_count": 65,
   "id": "dcc4da53",
   "metadata": {},
   "outputs": [
    {
     "data": {
      "text/plain": [
       "210"
      ]
     },
     "execution_count": 65,
     "metadata": {},
     "output_type": "execute_result"
    }
   ],
   "source": [
    "import math\n",
    "numerator = (10 * 9 * 8 * 7)\n",
    "denominator = (4 * 3 * 2 * 1)\n",
    "numerator // denominator"
   ]
  },
  {
   "cell_type": "markdown",
   "id": "f1ff26f0",
   "metadata": {},
   "source": [
    "<h3 style=\"color: #001a79;\">Exercise 2</h3>\n",
    "\n",
    "<hr style=\"border-top: 1px solid #001a79;\" />\n",
    "\n",
    "Note that there are the same number of ways to get 4 tails as there to get 4 heads. Explain why this is."
   ]
  },
  {
   "cell_type": "markdown",
   "id": "82000ff4",
   "metadata": {},
   "source": [
    "The general formula is: $${n \\choose r} = {n! \\over r!(n-r)!}$$\n",
    "\n",
    "where n is the number of things to choose from, and we choose r of them. \n",
    "\n",
    "https://www.mathsisfun.com/combinatorics/combinations-permutations.html"
   ]
  },
  {
   "cell_type": "markdown",
   "id": "f796646c",
   "metadata": {},
   "source": [
    "n is the number of coins and r is the number of tails. "
   ]
  },
  {
   "cell_type": "code",
   "execution_count": 2,
   "id": "6da2e6f5",
   "metadata": {},
   "outputs": [],
   "source": [
    "r = 4\n",
    "n = 10"
   ]
  },
  {
   "cell_type": "code",
   "execution_count": 3,
   "id": "56ca75a4",
   "metadata": {},
   "outputs": [
    {
     "data": {
      "text/plain": [
       "210"
      ]
     },
     "execution_count": 3,
     "metadata": {},
     "output_type": "execute_result"
    }
   ],
   "source": [
    "import math\n",
    "combinations = (math.factorial(n)) // ((math.factorial(r)) * (math.factorial(n - r)))\n",
    "combinations"
   ]
  },
  {
   "cell_type": "markdown",
   "id": "d3e2a338",
   "metadata": {},
   "source": [
    "This returns the same number of combinations if we set r to be the number of heads. \n",
    "\n",
    "It doesnt matter whether it is (4 heads and 6 tails) or (4 tails and 6 heads) the number of combinations will be 210.  "
   ]
  }
 ],
 "metadata": {
  "kernelspec": {
   "display_name": "Python 3 (ipykernel)",
   "language": "python",
   "name": "python3"
  },
  "language_info": {
   "codemirror_mode": {
    "name": "ipython",
    "version": 3
   },
   "file_extension": ".py",
   "mimetype": "text/x-python",
   "name": "python",
   "nbconvert_exporter": "python",
   "pygments_lexer": "ipython3",
   "version": "3.9.13"
  }
 },
 "nbformat": 4,
 "nbformat_minor": 5
}
