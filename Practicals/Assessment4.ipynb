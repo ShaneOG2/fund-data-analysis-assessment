{
 "cells": [
  {
   "cell_type": "markdown",
   "id": "576acf7e",
   "metadata": {},
   "source": [
    "<h3 style=\"color: #001a79;\">Exercise 4</h3>\n",
    "\n",
    "<hr style=\"border-top: 1px solid #001a79;\" />\n",
    "\n",
    "Note that there are the same number of ways to get 4 tails as there to get 4 heads. Explain why this is."
   ]
  },
  {
   "cell_type": "markdown",
   "id": "74c3c69b",
   "metadata": {},
   "source": [
    "The general formula is: $${n \\choose r} = {n! \\over r!(n-r)!}$$\n",
    "\n",
    "where n is the number of things to choose from, and we choose r of them. \n",
    "\n",
    "https://www.mathsisfun.com/combinatorics/combinations-permutations.html"
   ]
  },
  {
   "cell_type": "markdown",
   "id": "f359b845",
   "metadata": {},
   "source": [
    "n is the number of coins and r is the number of tails. "
   ]
  },
  {
   "cell_type": "code",
   "execution_count": 2,
   "id": "1433acd2",
   "metadata": {},
   "outputs": [],
   "source": [
    "r = 4\n",
    "n = 10"
   ]
  },
  {
   "cell_type": "code",
   "execution_count": 5,
   "id": "8951c17e",
   "metadata": {},
   "outputs": [
    {
     "data": {
      "text/plain": [
       "210"
      ]
     },
     "execution_count": 5,
     "metadata": {},
     "output_type": "execute_result"
    }
   ],
   "source": [
    "import math\n",
    "combinations = (math.factorial(n)) // ((math.factorial(r)) * (math.factorial(n - r)))\n",
    "combinations"
   ]
  },
  {
   "cell_type": "markdown",
   "id": "ad9b0e83",
   "metadata": {},
   "source": [
    "This returns the same number of combinations if we set r to be the number of heads. "
   ]
  },
  {
   "cell_type": "markdown",
   "id": "aa486525",
   "metadata": {},
   "source": [
    "It doesnt matter whether it is (4 heads and 6 tails) or (4 tails and 6 heads) the number of combinations will be 210.  "
   ]
  },
  {
   "cell_type": "code",
   "execution_count": null,
   "id": "aec5ed83",
   "metadata": {},
   "outputs": [],
   "source": []
  }
 ],
 "metadata": {
  "kernelspec": {
   "display_name": "Python 3 (ipykernel)",
   "language": "python",
   "name": "python3"
  },
  "language_info": {
   "codemirror_mode": {
    "name": "ipython",
    "version": 3
   },
   "file_extension": ".py",
   "mimetype": "text/x-python",
   "name": "python",
   "nbconvert_exporter": "python",
   "pygments_lexer": "ipython3",
   "version": "3.9.13"
  }
 },
 "nbformat": 4,
 "nbformat_minor": 5
}
