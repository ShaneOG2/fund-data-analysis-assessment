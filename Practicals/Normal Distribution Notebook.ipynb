{
 "cells": [
  {
   "cell_type": "markdown",
   "id": "a6f2aefe",
   "metadata": {},
   "source": [
    "What is a distribution?\n",
    "\n",
    "What is the normal distribution? "
   ]
  },
  {
   "cell_type": "markdown",
   "id": "02b084fd",
   "metadata": {},
   "source": [
    "A distribution in statistics is a function that shows the possible values for a variable and how often they occur.\n",
    "\n",
    "Examples\n",
    "Normal, uniform, binomial"
   ]
  }
 ],
 "metadata": {
  "kernelspec": {
   "display_name": "Python 3 (ipykernel)",
   "language": "python",
   "name": "python3"
  },
  "language_info": {
   "codemirror_mode": {
    "name": "ipython",
    "version": 3
   },
   "file_extension": ".py",
   "mimetype": "text/x-python",
   "name": "python",
   "nbconvert_exporter": "python",
   "pygments_lexer": "ipython3",
   "version": "3.9.13"
  }
 },
 "nbformat": 4,
 "nbformat_minor": 5
}
